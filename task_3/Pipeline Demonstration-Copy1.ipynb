{
 "cells": [
  {
   "cell_type": "markdown",
   "metadata": {},
   "source": [
    "# Full Pipeline for taking coordinates and classifying the reps"
   ]
  },
  {
   "cell_type": "code",
   "execution_count": 7,
   "metadata": {},
   "outputs": [
    {
     "name": "stdout",
     "output_type": "stream",
     "text": [
      "The autoreload extension is already loaded. To reload it, use:\n",
      "  %reload_ext autoreload\n"
     ]
    }
   ],
   "source": [
    "import sys\n",
    "import os\n",
    "import pickle\n",
    "sys.path.append('..')\n",
    "sys.path.append('../inference')\n",
    "sys.path.append('../data')\n",
    "sys.path.append('../feedback')\n",
    "from ai_trainer import Personal_Trainer\n",
    "\n",
    "%load_ext autoreload\n",
    "%autoreload 2"
   ]
  },
  {
   "cell_type": "markdown",
   "metadata": {},
   "source": [
    "# Step 1: Instantiate personal trainer and load classifiers"
   ]
  },
  {
   "cell_type": "code",
   "execution_count": 8,
   "metadata": {},
   "outputs": [
    {
     "name": "stdout",
     "output_type": "stream",
     "text": [
      "[SUCCESS] ---------- > Classifiers stored for pushup\n"
     ]
    }
   ],
   "source": [
    "pt = Personal_Trainer({'squat':'NeckY','pushup':'NeckY'})\n",
    "\n",
    "#=====[ Get classifiers from pickled file ]=====\n",
    "#squat_classifiers = pickle.load(open(os.path.join('../inference/','squat_classifiers_ftopt.p'),'rb'))\n",
    "pushup_classifiers = pickle.load(open(os.path.join('../inference/','pushup_classifiers_ftopt.p'),'rb'))\n",
    "\n",
    "#=====[ Set classifiers for our trainer ]=====\n",
    "#pt.set_classifiers('squat',squat_classifiers)\n",
    "pt.set_classifiers('pushup',pushup_classifiers)"
   ]
  },
  {
   "cell_type": "markdown",
   "metadata": {},
   "source": [
    "# Step 2: Analyze Reps from raw coordinate data file"
   ]
  },
  {
   "cell_type": "code",
   "execution_count": 24,
   "metadata": {},
   "outputs": [],
   "source": [
    "#squats = pt.analyze_reps('squat','../data/raw_data/squat_pushupData_10to20/squatData15.txt')\n",
    "# squats = pt.analyze_reps('squat','../data/raw_data/squat_pushupData_10to20/squatData15.txt')\n",
    "pushups = pt.analyze_reps('pushup','../data/raw_data/squat_pushupData_10to20/pushupData12.txt')\n",
    "\n",
    "#=====[ Extract feature vectors from squats and pushups for each corresponding exercise component  ]=====\n",
    "#squat_feature_vectors = pt.get_prediction_features_opt('squat',squats)\n",
    "pushup_feature_vectors = pt.get_prediction_features_opt('pushup',pushups)"
   ]
  },
  {
   "cell_type": "code",
   "execution_count": 26,
   "metadata": {},
   "outputs": [
    {
     "name": "stdout",
     "output_type": "stream",
     "text": [
      "[SUCCESS] ---------- > head_back: reps classified\n",
      "\n",
      "head_back :\n",
      "[0 1 0 0 1 0 0 1 0 0] \n",
      "\n",
      "[SUCCESS] ---------- > elbow_angle: reps classified\n",
      "\n",
      "elbow_angle :\n",
      "[1 1 0 0 0 0 0 0 0 0] \n",
      "\n",
      "[SUCCESS] ---------- > knees_straight: reps classified\n",
      "\n",
      "knees_straight :\n",
      "[0 0 0 0 0 1 0 0 0 0] \n",
      "\n"
     ]
    }
   ],
   "source": [
    "#=====[ Run classification on each squat component and report results  ]=====\n",
    "results = {}\n",
    "for key in pushup_feature_vectors:\n",
    "    X = pushup_feature_vectors[key]\n",
    "    classification = pt.classify('pushup', key, X, verbose=True)\n",
    "    results[key] = classification\n",
    "    print '\\n', key ,':\\n', classification, '\\n'"
   ]
  },
  {
   "cell_type": "code",
   "execution_count": 31,
   "metadata": {},
   "outputs": [
    {
     "name": "stdout",
     "output_type": "stream",
     "text": [
      "A total of 10 reps were analyzed\n",
      "\n",
      "\n",
      "\n",
      "Minor Problems:\n",
      "\n",
      "Head and Back Alignment:keep your head and back aligned\n",
      "\n",
      "\n"
     ]
    }
   ],
   "source": [
    "import result_interpretation as advice \n",
    "advice_message = \"\"\n",
    "\n",
    "\t\t#=====[ Gets all advice corresponding to results ]=====\n",
    "for message in advice.advice('pushup', results):\n",
    "    print message\n",
    "    advice_message += message + '\\n'\n",
    "#pt.get_advice('pushup',results)"
   ]
  },
  {
   "cell_type": "code",
   "execution_count": 4,
   "metadata": {},
   "outputs": [
    {
     "ename": "NameError",
     "evalue": "name 'pushup_feature_vectors' is not defined",
     "output_type": "error",
     "traceback": [
      "\u001b[1;31m\u001b[0m",
      "\u001b[1;31mNameError\u001b[0mTraceback (most recent call last)",
      "\u001b[1;32m<ipython-input-4-c79e305635fc>\u001b[0m in \u001b[0;36m<module>\u001b[1;34m()\u001b[0m\n\u001b[0;32m      1\u001b[0m \u001b[1;31m#=====[ Run classification on each pushup component and report results  ]=====\u001b[0m\u001b[1;33m\u001b[0m\u001b[1;33m\u001b[0m\u001b[0m\n\u001b[0;32m      2\u001b[0m \u001b[0mresults\u001b[0m \u001b[1;33m=\u001b[0m \u001b[1;33m{\u001b[0m\u001b[1;33m}\u001b[0m\u001b[1;33m\u001b[0m\u001b[0m\n\u001b[1;32m----> 3\u001b[1;33m \u001b[1;32mfor\u001b[0m \u001b[0mkey\u001b[0m \u001b[1;32min\u001b[0m \u001b[0mpushup_feature_vectors\u001b[0m\u001b[1;33m:\u001b[0m\u001b[1;33m\u001b[0m\u001b[0m\n\u001b[0m\u001b[0;32m      4\u001b[0m     \u001b[0mX\u001b[0m \u001b[1;33m=\u001b[0m \u001b[0mpushup_feature_vectors\u001b[0m\u001b[1;33m[\u001b[0m\u001b[0mkey\u001b[0m\u001b[1;33m]\u001b[0m\u001b[1;33m\u001b[0m\u001b[0m\n\u001b[0;32m      5\u001b[0m     \u001b[0mclassification\u001b[0m \u001b[1;33m=\u001b[0m \u001b[0mpt\u001b[0m\u001b[1;33m.\u001b[0m\u001b[0mclassify\u001b[0m\u001b[1;33m(\u001b[0m\u001b[1;34m'pushup'\u001b[0m\u001b[1;33m,\u001b[0m \u001b[0mkey\u001b[0m\u001b[1;33m,\u001b[0m \u001b[0mX\u001b[0m\u001b[1;33m)\u001b[0m\u001b[1;33m\u001b[0m\u001b[0m\n",
      "\u001b[1;31mNameError\u001b[0m: name 'pushup_feature_vectors' is not defined"
     ]
    }
   ],
   "source": [
    "#=====[ Run classification on each pushup component and report results  ]=====\n",
    "results = {}\n",
    "for key in pushup_feature_vectors:\n",
    "    X = pushup_feature_vectors[key]\n",
    "    classification = pt.classify('pushup', key, X)\n",
    "    results[key] = classification\n",
    "    print '\\n', key ,':\\n', classification, '\\n'"
   ]
  },
  {
   "cell_type": "code",
   "execution_count": null,
   "metadata": {},
   "outputs": [],
   "source": [
    "# pt.get_advice('pushup',results)"
   ]
  }
 ],
 "metadata": {
  "kernelspec": {
   "display_name": "Python 2",
   "language": "python",
   "name": "python2"
  },
  "language_info": {
   "codemirror_mode": {
    "name": "ipython",
    "version": 2
   },
   "file_extension": ".py",
   "mimetype": "text/x-python",
   "name": "python",
   "nbconvert_exporter": "python",
   "pygments_lexer": "ipython2",
   "version": "2.7.14"
  }
 },
 "nbformat": 4,
 "nbformat_minor": 1
}
